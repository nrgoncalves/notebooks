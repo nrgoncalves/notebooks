{
 "metadata": {
  "name": "",
  "signature": "sha256:9fd3a288d75ad07233c43db2a436ae91fe3dfdea7733a5606215c367a409736c"
 },
 "nbformat": 3,
 "nbformat_minor": 0,
 "worksheets": [
  {
   "cells": [
    {
     "cell_type": "markdown",
     "metadata": {},
     "source": [
      "# Adapting the disparity energy model to natural inputs\n",
      "\n",
      "I briefly introduced the disparity energy model [(Ohzawa et al., 1990, Science)][1] in an earlier notebook. This model explains how complex cells in primary visual cortex (V1) compute energy at different binocular disparities, and has been by far the most influential model of early disparity selectivity. Perhaps the main deviation between the model and neurophysiology relates to the response of neurons in V1 to anti-correlated binocular stimuli, where the image presented to one eye is the negative of the image presented to the other eye. The **majority** of these cells responds with contrary selectivity and less vigourously to anti-correlated stimuli (in compariston to correlated stereograms; Cumming & Parker, 1997). In practice, this just means that tuning curves for anti-correlated disparity are usually inverted and attenuated. While the energy model explains the inversion, the attenuation is not accounted for. This \"adaptation\" to natural disparities is not yet fully understood, but several modifications to the disparity energy model have been proposed. These modifications mainly consist of introducing non-linearities at different stages of the model. [Prof. Jenny Read][2] has written some of my favourite papers looking at these issues. In this notebook, I demonstrate how different non-linearities affect the response to correlated and anti-correlated stimuli. I am largely following the structure adopted in previous work [(Read et al., 2002)][3].\n",
      "\n",
      "## The general structure\n",
      "\n",
      "The models explored here are all based on a common scaffold. Briefly, the left and right input images are convolved with a group of receptive fields (in this case, four Gabor filters in phase quadrature) that have a horizontal positional offset between the eyes (this gives rise selectivity to a given disparity). A non-linearity may or may not be applied, and the resulting (still monocular) outputs are then combined across eyes (binocular summation). At this stage, a non-linearity may be applied. Finally, the output of the model consists of summing over the different types of Gabor receptive fields. Additionally, a last non-linearity may also be applied. \n",
      "Schematically:\n",
      "\n",
      "![alt text](scaffold5.png \"Model structure\")\n",
      "\n",
      "[1]: http://www.ncbi.nlm.nih.gov/pubmed/2396096\n",
      "[2]: http://www.jennyreadresearch.com\n",
      "[3]: http://www.ncbi.nlm.nih.gov/pubmed/12688669\n"
     ]
    },
    {
     "cell_type": "markdown",
     "metadata": {},
     "source": [
      "We will start by defining the receptive fields as Gabor filters."
     ]
    },
    {
     "cell_type": "code",
     "collapsed": false,
     "input": [
      "%pylab inline\n",
      "import numpy as np\n",
      "import matplotlib.pyplot as plt\n",
      "from scipy.signal import convolve2d"
     ],
     "language": "python",
     "metadata": {},
     "outputs": [
      {
       "output_type": "stream",
       "stream": "stdout",
       "text": [
        "Populating the interactive namespace from numpy and matplotlib\n"
       ]
      }
     ],
     "prompt_number": 1
    },
    {
     "cell_type": "code",
     "collapsed": false,
     "input": [
      "# ---- Gabor parameters\n",
      "T = 64.           # Gabor period, pixels\n",
      "sd_o = 12.        # SD orthogonal to orientation, pixels\n",
      "sd_p = 32.        # SD parallel to orientation, pixels\n",
      "gamma = sd_o/sd_p # RF aspect ratio\n",
      "theta = 0.        # RF orientation (deviation from vertical)\n",
      "\n",
      "p = np.array([sd_o, gamma, T, theta])\n",
      "\n",
      "def Gabor(p, dx, dphi):\n",
      "    ''' returns a 2d Gabor filter\n",
      "    '''\n",
      "    # get params\n",
      "    sd, gamma, T, theta = p\n",
      "    sf = 1./T                 # spatial frequency, pixel^-1\n",
      "    \n",
      "    # build grid\n",
      "    fw = 3*sd_p # by 3 SDs the Gaussian envelope is nearly zero\n",
      "    klim = np.floor(fw/2)\n",
      "    xm,ym = np.meshgrid(np.linspace(-klim,klim,fw), np.linspace(-klim,klim,fw))\n",
      "    \n",
      "    xm -= dx\n",
      "    xt = xm * np.cos(theta) + ym * np.sin(theta)\n",
      "    yt = -xm * np.sin(theta) + ym * np.cos(theta)\n",
      "\n",
      "    k = np.exp(-(xt**2+gamma**2*yt**2)/(2.0*sd**2))*np.cos(2*np.pi*sf*xt - dphi)\n",
      "    \n",
      "    return k\n"
     ],
     "language": "python",
     "metadata": {},
     "outputs": [],
     "prompt_number": 2
    },
    {
     "cell_type": "markdown",
     "metadata": {},
     "source": [
      "And we will also write a function to generate very basic random-dot-stereograms. We define the stereograms as a random noise images, and we make sure they are bounded between -1 and 1. That means that they will have approximately zero mean. This detail is actually super important - you can try to set the images to have non-zero mean and see what happens to the results. If you just want to know the reason why, then dive into [Read et al. 2011, J Vis][4]).\n",
      "\n",
      "[4]: http://www.ncbi.nlm.nih.gov/pubmed/21984818"
     ]
    },
    {
     "cell_type": "code",
     "collapsed": false,
     "input": [
      "# ---- RDS Generation\n",
      "def genRDS(im_h, im_w, d):\n",
      "    ''' generate noise RDS '''\n",
      "    shift = np.absolute(d)      \n",
      "    \n",
      "    limg = np.random.rand(im_h,im_w)\n",
      "    if d>0: # uncrossed\n",
      "        rimg = np.concatenate((np.random.rand(im_h, shift), limg[:,:-shift]), axis=1)\n",
      "    elif d<0: # crossed\n",
      "        rimg = np.concatenate((limg[:,shift:], np.random.rand(im_h, shift)), axis=1)\n",
      "    else:\n",
      "        rimg = limg[:,:]\n",
      "\n",
      "    limg = limg*2 - 1\n",
      "    rimg = rimg*2 - 1\n",
      "    \n",
      "    return (limg, rimg)"
     ],
     "language": "python",
     "metadata": {},
     "outputs": [],
     "prompt_number": 3
    },
    {
     "cell_type": "markdown",
     "metadata": {},
     "source": [
      "Now let's implement the actual model. We will define three stages: \n",
      "\n",
      "1. monocular convolution;\n",
      "2. binocular summation;\n",
      "3. cross-filter summation onto a complex cell. \n",
      "\n",
      "At the end of each stage we may want to apply some non-linear transformation."
     ]
    },
    {
     "cell_type": "code",
     "collapsed": false,
     "input": [
      "class ComplexCellPop(object):\n",
      "    \n",
      "    def __init__(self, p, dx, dphi, msNL, bsNL, cxNL):\n",
      "        \n",
      "        dx /= 2.\n",
      "        dphi /= 2.\n",
      "        \n",
      "        # ---- initialize monocular receptive fields\n",
      "        self.rf= [[[] for i in range(2)] for i in range(4)]\n",
      "\n",
      "        for i in range(4):\n",
      "            self.rf[i][0] = Gabor(p, -dx, i*np.pi/2. - dphi) # left\n",
      "            self.rf[i][1] = Gabor(p, dx, i*np.pi/2. + dphi)  # right\n",
      "\n",
      "        self.msNL = msNL # monocular non-linearity\n",
      "        self.bsNL = bsNL # binocular non-linearity\n",
      "        self.cxNL = cxNL # output non-linearity\n",
      "            \n",
      "    def msResponse(self, X):\n",
      "        ''' monocular simple cell response '''\n",
      "        \n",
      "        r = [[[] for i in range(2)] for i in range(4)]\n",
      "        \n",
      "        for i in range(len(self.rf)):\n",
      "            for j in range(len(self.rf[i])):\n",
      "                k = np.flipud(np.fliplr(self.rf[i][j]))\n",
      "                if self.msNL == None:\n",
      "                    r[i][j] = convolve2d(X[j], k, mode='valid')\n",
      "                else:\n",
      "                    r[i][j] = self.msNL(convolve2d(X[j], k, mode='valid'))\n",
      "                \n",
      "        return r\n",
      "\n",
      "    def bsResponse(self, msR):\n",
      "        ''' binocular simple cell response '''\n",
      "        \n",
      "        r = [[] for i in range(4)]        \n",
      "        for i in range(len(msR)):\n",
      "                if self.bsNL == None:\n",
      "                    r[i] = msR[i][0] + msR[i][1]\n",
      "                else:        \n",
      "                    r[i] = self.bsNL(msR[i][0] + msR[i][1])\n",
      "        return r\n",
      "    \n",
      "    def response(self, X):\n",
      "        ''' complex cell response '''\n",
      "        # --- monocular simple cells\n",
      "        msR = self.msResponse(X)\n",
      "\n",
      "        # --- binocular simple cells\n",
      "        bsR = self.bsResponse(msR)\n",
      "        \n",
      "        # --- complex cells\n",
      "        cxR = np.zeros(np.shape(bsR[0]))\n",
      "        for i in range(len(bsR)):\n",
      "            cxR += bsR[i] \n",
      "        \n",
      "        if cxNL != None:\n",
      "            cxR = cxNL(cxR)\n",
      "        \n",
      "        return cxR\n"
     ],
     "language": "python",
     "metadata": {},
     "outputs": [],
     "prompt_number": 4
    },
    {
     "cell_type": "markdown",
     "metadata": {},
     "source": [
      "## Testing models\n",
      "\n",
      "We are now ready to start testing different models. All we need to do is to define the non-linearities we are imposing at each stage of the model. I am demonstrating three examples:\n",
      "\n",
      "1. Standard disparity energy model (ODF model; Ohzawa et al., 1990)\n",
      "2. One alternative proposed by Read and colleagues (RPC model; Read et al., 2002)\n",
      "3. Disparity energy model with an output non-linearity (e.g. a threshold)\n",
      "\n",
      "You can play with the different options by defining different non-linearities using lambda functions."
     ]
    },
    {
     "cell_type": "code",
     "collapsed": false,
     "input": [
      "# --- create complex cell model\n",
      "# ODF: Ohzawa, DeAngelis and Freeman type (Ohzawa et al., 1990, Science)\n",
      "# RPC: Read, Cumming, Parker type (Read et al., 2002, Visual Neuroscience)\n",
      "# CxThr: Output non-linearity (e.g. in Read et al, 2002; Lippert & Wagner, 2001, Neuroreport)\n",
      "\n",
      "# - define non-linearities\n",
      "# msNL: non-linearity applied after monocular filtering\n",
      "# bsBL: non-linearity applied after binocular combination\n",
      "# cxNL: non-linearity applied on the output of the model\n",
      "\n",
      "# - choose one of these options or build your own (see below)\n",
      "modelLabel = 'CxThr' # ['ODF', 'RPC', 'CxThr']\n",
      "\n",
      "if modelLabel == 'ODF':\n",
      "    # Ohzawa, DeAngelis and Freeman (ODF) type (Ohzawa et al., 1990, Science)\n",
      "    msNL = None\n",
      "    bsNL = lambda x: np.maximum(0, x)**2\n",
      "    cxNL = None\n",
      "elif modelLabel == 'RPC':\n",
      "    # Read, Cumming, Parker (RPC) type (Read et al., 2002, Visual Neuroscience)\n",
      "    msNL = lambda x: np.maximum(1,x)\n",
      "    bsNL = lambda x: np.maximum(0, x)**2\n",
      "    cxNL = None\n",
      "elif modelLabel == 'CxThr':\n",
      "    # Output non-linearity\n",
      "    msNL = None\n",
      "    bsNL = lambda x: np.maximum(0, x)**2\n",
      "    cxNL = lambda x: x**2 # squaring non-linearity\n",
      "    # cxNL = lambda x: np.maximum(1000,x) # threshold non-linearity\n",
      "else:\n",
      "    # we assume ODF as default\n",
      "    msNL = None\n",
      "    bsNL = lambda x: np.maximum(0, x)**2\n",
      "    cxNL = None\n",
      "\n",
      "# --- initialize model\n",
      "odfCx = ComplexCellPop(p, 0., 0, msNL, bsNL, cxNL)\n",
      "\n",
      "# --- test with RDS with different disparities\n",
      "disparities = np.linspace(-40, 40, 11)\n",
      "n_disparities = np.shape(disparities)[0]\n",
      "n_trials = 500\n",
      "\n",
      "cx_corr = np.zeros((n_disparities, n_trials))\n",
      "cx_anti = np.zeros((n_disparities, n_trials))\n",
      "\n",
      "im_w, im_h = 100, 100\n",
      "print 'This may take a while...'\n",
      "for d in np.arange(n_disparities):\n",
      "    print '|',\n",
      "    for i in np.arange(n_trials):\n",
      "        \n",
      "        # ---- generate image for this trial\n",
      "        limg, rimg = genRDS(im_h, im_w, disparities[d])\n",
      "        \n",
      "        # ---- complex cell response\n",
      "        # correlated\n",
      "        r = odfCx.response([limg, rimg])\n",
      "        cx_corr[d, i] = np.sum(r) # sum over the population of complex cells\n",
      "        \n",
      "        # anti-correlated\n",
      "        r = odfCx.response([limg, -1*rimg])\n",
      "        cx_anti[d, i] = np.sum(r) \n",
      "\n",
      "print 'Complete!'"
     ],
     "language": "python",
     "metadata": {},
     "outputs": [
      {
       "output_type": "stream",
       "stream": "stdout",
       "text": [
        "This may take a while...\n",
        "| "
       ]
      },
      {
       "output_type": "stream",
       "stream": "stdout",
       "text": [
        "| "
       ]
      },
      {
       "output_type": "stream",
       "stream": "stdout",
       "text": [
        "| "
       ]
      },
      {
       "output_type": "stream",
       "stream": "stdout",
       "text": [
        "| "
       ]
      },
      {
       "output_type": "stream",
       "stream": "stdout",
       "text": [
        "| "
       ]
      },
      {
       "output_type": "stream",
       "stream": "stdout",
       "text": [
        "| "
       ]
      },
      {
       "output_type": "stream",
       "stream": "stdout",
       "text": [
        "| "
       ]
      },
      {
       "output_type": "stream",
       "stream": "stdout",
       "text": [
        "| "
       ]
      },
      {
       "output_type": "stream",
       "stream": "stdout",
       "text": [
        "| "
       ]
      },
      {
       "output_type": "stream",
       "stream": "stdout",
       "text": [
        "| "
       ]
      },
      {
       "output_type": "stream",
       "stream": "stdout",
       "text": [
        "| "
       ]
      },
      {
       "output_type": "stream",
       "stream": "stdout",
       "text": [
        "Complete!\n"
       ]
      }
     ],
     "prompt_number": 5
    },
    {
     "cell_type": "code",
     "collapsed": false,
     "input": [
      "# ---- get tuning curves\n",
      "tcCorr = np.mean(cx_corr, axis=1)\n",
      "tcAnti = np.mean(cx_anti, axis=1)\n",
      "\n",
      "# normalize response\n",
      "maxR = np.maximum(np.amax(tcAnti), np.amax(tcCorr))\n",
      "tcCorr /= maxR\n",
      "tcAnti /= maxR\n",
      "\n",
      "plt.plot(disparities, tcCorr, 'o-', color = 'k', label='cRDS')\n",
      "plt.plot(disparities, tcAnti, 'o-', color = 'gray', label='aRDS')\n",
      "plt.ylim(-0.05,1.05)\n",
      "plt.xlabel('Disparity (pixel)')\n",
      "plt.ylabel('Normalized response')\n",
      "plt.legend(loc='lower right', shadow=True)\n",
      "plt.show()"
     ],
     "language": "python",
     "metadata": {},
     "outputs": [
      {
       "metadata": {},
       "output_type": "display_data",
       "png": "[encoded data removed]",
       "text": [
        "<matplotlib.figure.Figure at 0x106947f90>"
       ]
      }
     ],
     "prompt_number": 6
    },
    {
     "cell_type": "markdown",
     "metadata": {},
     "source": [
      "## Overview\n",
      "\n",
      "As demonstrated here, and as others have shown, introducing non-linearities in the disparity energy model allows us to reproduce attenuated responses to anti-correlated stimuli. However, some of these models explain the attenuated response only for particular configurations of receptive fields or output tuning. It is possible to account for attenuation by carefully designing models for this particular purpose, but it is not clear whether these computations are being implemented in the brain, and what would be their computational goal. \n",
      "\n",
      "Additionally, I would like to highlight that some cells in V1 respond even more vigourously to disparity in anti-correlated stereograms, and some do not even invert their tuning curve (although the majority does). The models presented here do not seem tailored to account for this variability. These questions remain open.\n",
      "\n",
      "## References\n",
      "\n",
      "B. G. Cumming and A. J. Parker, \u201cResponses of primary visual cortical neurons to binocular disparity without depth perception,\u201d Nature, vol. 389, pp. 280\u20133, Sep 1997.\n",
      "\n",
      "I. Ohzawa, G. C. DeAngelis, and R. D. Freeman, \u201cStereoscopic depth discrimination in the visual cortex: neurons ideally suited as disparity detectors,\u201d Science, vol. 249, pp. 1037\u201341, Aug 1990.\n",
      "\n",
      "J. Lippert and H. Wagner, \u201cA threshold explains modulation of neural responses to opposite-contrast stereograms,\u201d Neuroreport, vol. 12, pp. 3205\u20138, Oct 2001.\n",
      "\n",
      "J. C. A. Read, A. J. Parker, and B. G. Cumming, \u201cA simple model accounts for the response of disparity- tuned v1 neurons to anticorrelated images,\u201d Vis Neurosci, vol. 19, no. 6, pp. 735\u201353, 2002.\n",
      "\n",
      "J. C. A. Read, X. A. Vaz, and I. Serrano-Pedraza, \u201cIndependent mechanisms for bright and dark image features in a stereo correspondence task.,\u201d J Vis, vol. 11, no. 12, 2011."
     ]
    }
   ],
   "metadata": {}
  }
 ]
}
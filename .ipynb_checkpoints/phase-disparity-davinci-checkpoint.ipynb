{
 "metadata": {
  "language": "Julia",
  "name": "",
  "signature": "sha256:89fe0a2265de6ebb26a8620616ba39fe4170138a6ab32f86e4b6666fb6a419dd"
 },
 "nbformat": 3,
 "nbformat_minor": 0,
 "worksheets": [
  {
   "cells": [
    {
     "cell_type": "code",
     "collapsed": false,
     "input": [
      "using PyPlot\n",
      "\n",
      "# the 2d-gabor parameters - play around with these and re-evaluate the cell to see the result\n",
      "sigma, gamma, mu, sf, theta, \u03d5 = 1.0, 1.0, 0.0, 0.25, pi/2, 0.\n",
      "\n",
      "xp(xi::Float64,yi::Float64,theta::Float64) = -xi*cos(theta) + yi*sin(theta)\n",
      "\n",
      "c = 0\n",
      "for shift in linspace(0., pi, 20)\n",
      "\n",
      "    f = figure(figsize=(10,10))\n",
      "    \n",
      "    # compute Gabor    \n",
      "    G = [ exp(-(xi-mu).^2/(2.0*sigma^2)-gamma^2*(yi-mu).^2/(2.0*sigma^2)).*cos(2*\u03c0*sf*(xp(xi,yi,theta)-mu) - \u03d5) for xi in linspace(-4,4,101), yi in linspace(-4,4,101)]\n",
      "    G2 = [ exp(-(xi-mu).^2/(2.0*sigma^2)-gamma^2*(yi-mu).^2/(2.0*sigma^2)).*cos(2*\u03c0*sf*(xp(xi,yi,theta)-mu) - \u03d5 - shift) for xi in linspace(-4,4,101), yi in linspace(-4,4,101)]\n",
      "\n",
      "    # plot\n",
      "    subplot(1,2,1)\n",
      "    im1=imshow(G, cmap=\"gray\", clim=(-1,1), extent=(-4,4,-4,4), origin=\"lower\")\n",
      "    \n",
      "    imwrite(grayim(im1),\"test \"+ str(c) + \"_r.png\")\n",
      "    \n",
      "    subplot(1,2,2)\n",
      "    im2=imshow(G2, cmap=\"gray\", clim=(-1,1), extent=(-4,4,-4,4), origin=\"lower\")\n",
      "\n",
      "    imwrite(grayim(im2),\"test \"+ str(c) + \"_l.png\")\n",
      "    \n",
      "    c += 1\n",
      "end\n"
     ],
     "language": "python",
     "metadata": {},
     "outputs": [
      {
       "ename": "LoadError",
       "evalue": "str not defined\nwhile loading In[4], in expression starting on line 9",
       "output_type": "pyerr",
       "traceback": [
        "str not defined\nwhile loading In[4], in expression starting on line 9",
        "",
        " in getindex at /Users/NunoGoncalves/.julia/PyCall/src/PyCall.jl:625",
        " in pysequence_query at /Users/NunoGoncalves/.julia/PyCall/src/conversions.jl:741",
        " in pytype_query at /Users/NunoGoncalves/.julia/PyCall/src/conversions.jl:757",
        " in convert at /Users/NunoGoncalves/.julia/PyCall/src/conversions.jl:806",
        " in pycall at /Users/NunoGoncalves/.julia/PyCall/src/PyCall.jl:795",
        " in fn at /Users/NunoGoncalves/.julia/PyCall/src/conversions.jl:181",
        " in close_queued_figs at /Users/NunoGoncalves/.julia/PyPlot/src/PyPlot.jl:231"
       ]
      }
     ],
     "prompt_number": 4
    },
    {
     "cell_type": "code",
     "collapsed": false,
     "input": [],
     "language": "python",
     "metadata": {},
     "outputs": []
    }
   ],
   "metadata": {}
  }
 ]
}